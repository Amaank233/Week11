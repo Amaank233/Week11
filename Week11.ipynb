{
  "nbformat": 4,
  "nbformat_minor": 0,
  "metadata": {
    "colab": {
      "provenance": []
    },
    "kernelspec": {
      "name": "python3",
      "display_name": "Python 3"
    },
    "language_info": {
      "name": "python"
    }
  },
  "cells": [
    {
      "source": [
        "import pandas as pd\n",
        "from google.colab import drive\n",
        "drive.mount('/content/drive')\n",
        "\n",
        "# Load your data, update this path to the location of 'Train.csv' in your Drive\n",
        "df = pd.read_csv('/content/drive/MyDrive/Train.csv') # Update 'YourFolder'\n",
        "\n",
        "# Get the frequency count of each segment\n",
        "segment_distribution = df['segmento'].value_counts()\n",
        "\n",
        "# Print the segment distribution\n",
        "print(segment_distribution)"
      ],
      "cell_type": "code",
      "metadata": {
        "colab": {
          "base_uri": "https://localhost:8080/"
        },
        "id": "HhgTvHuSNO9P",
        "outputId": "6197ba41-3e39-4e97-cc01-28b5a1051c8b"
      },
      "execution_count": null,
      "outputs": [
        {
          "output_type": "stream",
          "name": "stdout",
          "text": [
            "Drive already mounted at /content/drive; to attempt to forcibly remount, call drive.mount(\"/content/drive\", force_remount=True).\n"
          ]
        },
        {
          "output_type": "stream",
          "name": "stderr",
          "text": [
            "<ipython-input-1-800087c3b3bb>:6: DtypeWarning: Columns (5,8,11,15) have mixed types. Specify dtype option on import or set low_memory=False.\n",
            "  df = pd.read_csv('/content/drive/MyDrive/Train.csv') # Update 'YourFolder'\n"
          ]
        }
      ]
    },
    {
      "cell_type": "code",
      "source": [
        "# Import necessary libraries\n",
        "import pandas as pd\n",
        "\n",
        "# Initialize an empty dataframe\n",
        "df = pd.DataFrame()\n",
        "\n",
        "# Load your data in chunks\n",
        "chunksize = 10 ** 6  # adjust this value depending on your system's memory\n",
        "for chunk in pd.read_csv('/content/drive/MyDrive/Train.csv', chunksize=chunksize):\n",
        "    df = pd.concat([df, chunk])\n",
        "\n",
        "# Now you can proceed with your analysis\n",
        "segment_distribution = df['segmento'].value_counts()\n",
        "print(\"Segment Distribution (Count):\")\n",
        "print(segment_distribution)\n",
        "\n",
        "segment_distribution_percentage = df['segmento'].value_counts(normalize=True)\n",
        "print(\"\\nSegment Distribution (Percentage):\")\n",
        "print(segment_distribution_percentage)\n"
      ],
      "metadata": {
        "colab": {
          "base_uri": "https://localhost:8080/"
        },
        "id": "D6-utk2MX2f9",
        "outputId": "49346c23-c690-4259-a303-662dd4072d1a"
      },
      "execution_count": null,
      "outputs": [
        {
          "output_type": "stream",
          "name": "stderr",
          "text": [
            "<ipython-input-1-14b41824bd6f>:9: DtypeWarning: Columns (15) have mixed types. Specify dtype option on import or set low_memory=False.\n",
            "  for chunk in pd.read_csv('/content/drive/MyDrive/Train.csv', chunksize=chunksize):\n",
            "<ipython-input-1-14b41824bd6f>:9: DtypeWarning: Columns (15) have mixed types. Specify dtype option on import or set low_memory=False.\n",
            "  for chunk in pd.read_csv('/content/drive/MyDrive/Train.csv', chunksize=chunksize):\n",
            "<ipython-input-1-14b41824bd6f>:9: DtypeWarning: Columns (10,15) have mixed types. Specify dtype option on import or set low_memory=False.\n",
            "  for chunk in pd.read_csv('/content/drive/MyDrive/Train.csv', chunksize=chunksize):\n",
            "<ipython-input-1-14b41824bd6f>:9: DtypeWarning: Columns (5,8,10,11,15) have mixed types. Specify dtype option on import or set low_memory=False.\n",
            "  for chunk in pd.read_csv('/content/drive/MyDrive/Train.csv', chunksize=chunksize):\n",
            "<ipython-input-1-14b41824bd6f>:9: DtypeWarning: Columns (11,15) have mixed types. Specify dtype option on import or set low_memory=False.\n",
            "  for chunk in pd.read_csv('/content/drive/MyDrive/Train.csv', chunksize=chunksize):\n",
            "<ipython-input-1-14b41824bd6f>:9: DtypeWarning: Columns (10,11,15) have mixed types. Specify dtype option on import or set low_memory=False.\n",
            "  for chunk in pd.read_csv('/content/drive/MyDrive/Train.csv', chunksize=chunksize):\n",
            "<ipython-input-1-14b41824bd6f>:9: DtypeWarning: Columns (10,11,12,15,16,23) have mixed types. Specify dtype option on import or set low_memory=False.\n",
            "  for chunk in pd.read_csv('/content/drive/MyDrive/Train.csv', chunksize=chunksize):\n",
            "<ipython-input-1-14b41824bd6f>:9: DtypeWarning: Columns (11,15) have mixed types. Specify dtype option on import or set low_memory=False.\n",
            "  for chunk in pd.read_csv('/content/drive/MyDrive/Train.csv', chunksize=chunksize):\n",
            "<ipython-input-1-14b41824bd6f>:9: DtypeWarning: Columns (11,15) have mixed types. Specify dtype option on import or set low_memory=False.\n",
            "  for chunk in pd.read_csv('/content/drive/MyDrive/Train.csv', chunksize=chunksize):\n",
            "<ipython-input-1-14b41824bd6f>:9: DtypeWarning: Columns (10,11,15) have mixed types. Specify dtype option on import or set low_memory=False.\n",
            "  for chunk in pd.read_csv('/content/drive/MyDrive/Train.csv', chunksize=chunksize):\n",
            "<ipython-input-1-14b41824bd6f>:9: DtypeWarning: Columns (11,15) have mixed types. Specify dtype option on import or set low_memory=False.\n",
            "  for chunk in pd.read_csv('/content/drive/MyDrive/Train.csv', chunksize=chunksize):\n",
            "<ipython-input-1-14b41824bd6f>:9: DtypeWarning: Columns (11,15) have mixed types. Specify dtype option on import or set low_memory=False.\n",
            "  for chunk in pd.read_csv('/content/drive/MyDrive/Train.csv', chunksize=chunksize):\n",
            "<ipython-input-1-14b41824bd6f>:9: DtypeWarning: Columns (10,11,15) have mixed types. Specify dtype option on import or set low_memory=False.\n",
            "  for chunk in pd.read_csv('/content/drive/MyDrive/Train.csv', chunksize=chunksize):\n",
            "<ipython-input-1-14b41824bd6f>:9: DtypeWarning: Columns (11,15) have mixed types. Specify dtype option on import or set low_memory=False.\n",
            "  for chunk in pd.read_csv('/content/drive/MyDrive/Train.csv', chunksize=chunksize):\n"
          ]
        },
        {
          "output_type": "stream",
          "name": "stdout",
          "text": [
            "Segment Distribution (Count):\n",
            "segmento\n",
            "02 - PARTICULARES     7960220\n",
            "03 - UNIVERSITARIO    4935579\n",
            "01 - TOP               562142\n",
            "Name: count, dtype: int64\n",
            "\n",
            "Segment Distribution (Percentage):\n",
            "segmento\n",
            "02 - PARTICULARES     0.591489\n",
            "03 - UNIVERSITARIO    0.366741\n",
            "01 - TOP              0.041770\n",
            "Name: proportion, dtype: float64\n"
          ]
        }
      ]
    },
    {
      "cell_type": "code",
      "source": [
        "# Import necessary libraries\n",
        "import pandas as pd\n",
        "import matplotlib.pyplot as plt\n",
        "\n",
        "# Load your data\n",
        "df = pd.read_csv('/content/drive/MyDrive/Train.csv', low_memory=False)\n",
        "\n",
        "\n",
        "# List of product columns\n",
        "product_columns = ['ind_ahor_fin_ult1', 'ind_aval_fin_ult1', 'ind_cco_fin_ult1', 'ind_cder_fin_ult1',\n",
        "                   'ind_cno_fin_ult1', 'ind_ctju_fin_ult1', 'ind_ctma_fin_ult1', 'ind_ctop_fin_ult1',\n",
        "                   'ind_ctpp_fin_ult1', 'ind_deco_fin_ult1', 'ind_deme_fin_ult1', 'ind_dela_fin_ult1',\n",
        "                   'ind_ecue_fin_ult1', 'ind_fond_fin_ult1', 'ind_hip_fin_ult1', 'ind_plan_fin_ult1',\n",
        "                   'ind_pres_fin_ult1', 'ind_reca_fin_ult1', 'ind_tjcr_fin_ult1', 'ind_valo_fin_ult1',\n",
        "                   'ind_viv_fin_ult1', 'ind_nomina_ult1', 'ind_nom_pens_ult1', 'ind_recibo_ult1']\n",
        "\n",
        "# Calculate the sum of each product column\n",
        "product_distribution = df[product_columns].sum()\n",
        "\n",
        "# Create a bar chart\n",
        "plt.figure(figsize=(10, 6))\n",
        "product_distribution.plot(kind='bar')\n",
        "plt.title('Product Distribution')\n",
        "plt.xlabel('Products')\n",
        "plt.ylabel('Number of Customers')\n",
        "plt.show()\n"
      ],
      "metadata": {
        "id": "46etleQzcfVU"
      },
      "execution_count": null,
      "outputs": []
    }
  ]
}